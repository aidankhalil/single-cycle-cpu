{
  "nbformat": 4,
  "nbformat_minor": 0,
  "metadata": {
    "colab": {
      "provenance": [],
      "collapsed_sections": [
        "WC7XPMUXVjFx",
        "45vsWnA0Th8B",
        "T1oKYEzpkt1p"
      ]
    },
    "kernelspec": {
      "name": "python3",
      "display_name": "Python 3"
    },
    "language_info": {
      "name": "python"
    }
  },
  "cells": [
    {
      "cell_type": "markdown",
      "source": [
        "# **Lab 10** - ISA Assembler Design (Part 3)\n",
        "Your task in this lab is to take the **assembly code** given in part 1, detect any potential data hazards, and then rearrange the sequencing in such a way that data hazards are eliminated while still **maintaining the same computation and output**.\n",
        "\n",
        "\n",
        "<br>_Note: Some portions of the code have already been implemented for you, such as reading the input file, adjusting the `.asm` file format into a list of instructions, and printing the processed instructions._"
      ],
      "metadata": {
        "id": "zrVUjpiJ2v_3"
      }
    },
    {
      "cell_type": "markdown",
      "source": [
        "# Predefined Functions"
      ],
      "metadata": {
        "id": "WC7XPMUXVjFx"
      }
    },
    {
      "cell_type": "markdown",
      "source": [
        "## Functions from previous labs"
      ],
      "metadata": {
        "id": "45vsWnA0Th8B"
      }
    },
    {
      "cell_type": "code",
      "source": [
        "import re\n",
        "import csv\n",
        "\n",
        "# Function to read the assembly code file #\n",
        "def read(filename):\n",
        "    #read each line from a file\n",
        "    asm_inst = list()\n",
        "    with open(filename, 'r') as f:\n",
        "        for line in f:\n",
        "            asm_inst.append(line)\n",
        "    return asm_inst\n",
        "\n",
        "\n",
        "# Function to get the equivalent register's value\n",
        "def get_reg_value(reg_name):\n",
        "    #gets the equivalent value for the respective register name\n",
        "    reg_abi = {\"zero\": 0,\"ra\": 1,\"sp\": 2,\"gp\": 3,\"tp\": 4,\"t0\": 5,\"t1\": 6,\"t2\": 7,\n",
        "               \"s0\": 8,\"s1\": 9,\"a0\": 10,\"a1\": 11,\"a2\": 12,\"a3\": 13,\"a4\": 14,\"a5\": 15,\n",
        "               \"a6\": 16,\"a7\": 17,\"s2\": 18,\"s3\": 19,\"s4\": 20,\"s5\": 21,\"s6\": 22,\"s7\": 23,\n",
        "               \"s8\": 24,\"s9\": 25,\"s10\": 26,\"s11\": 27,\"t3\": 28,\"t4\": 29,\"t5\": 30,\"t6\": 31}\n",
        "    if reg_name[0].lower() in 'x':\n",
        "        return int(reg_name[1:])\n",
        "    elif reg_name in reg_abi:\n",
        "        return reg_abi[reg_name]\n",
        "    elif reg_name.isdecimal():\n",
        "        return int(reg_name)\n",
        "    else:\n",
        "        raise ValueError(f\"Invalid register name/value: {reg_name}\")\n",
        "\n",
        "\n",
        "# FOR TESTING: Function to print the instructions\n",
        "def print_asm_inst(instructions):\n",
        "    #prints list of instructions\n",
        "    print(\"Assembly Instructions:\")\n",
        "    if len(instructions) == 0:\n",
        "        print(None)\n",
        "    else:\n",
        "        for line in instructions:\n",
        "            print(line)\n",
        "\n",
        "\n",
        "# FOR TESTING: Function to print the labels\n",
        "def print_asm_labels(labels):\n",
        "    # prints list of labels\n",
        "    print(\"Assembly Labels:\")\n",
        "    if len(labels) == 0:\n",
        "        print(None)\n",
        "    else:\n",
        "        max_len = max(5,max([len(label) for label in labels]))\n",
        "        print(f\"{'LABEL':<{max_len}} | {'VALUE':>5}\")\n",
        "        for label, val in labels.items():\n",
        "            print(f\"{label:<{max_len}} | {val:>5}\")\n",
        "\n",
        "def remove_comments(instructions):\n",
        "    for i in range(len(instructions)):\n",
        "        instructions[i] = re.sub('#.+', \"\", instructions[i], flags=re.DOTALL)\n",
        "    return instructions\n",
        "\n",
        "\n",
        "def split_arg(instructions):\n",
        "    for i in range(len(instructions)):\n",
        "        instructions[i] = re.findall('[a-zA-Z0-9_#:+-]+', instructions[i])\n",
        "    return instructions\n",
        "\n",
        "\n",
        "def remove_empty(instructions):\n",
        "    return [line for line in instructions if len(line)>0]\n",
        "\n",
        "\n",
        "def loadsave_arg_reorder(instructions):\n",
        "    for i in range(len(instructions)):\n",
        "        if instructions[i][0] == 'lw':\n",
        "            tmp = instructions[i][3]\n",
        "            instructions[i][3] = instructions[i][2]\n",
        "            instructions[i][2] = tmp\n",
        "        elif instructions[i][0] == 'sw':\n",
        "            tmp = instructions[i][3]\n",
        "            instructions[i][3] = instructions[i][2]\n",
        "            instructions[i][2] = instructions[i][1]\n",
        "            instructions[i][1] = tmp\n",
        "        else:\n",
        "            continue\n",
        "    return instructions\n",
        "\n",
        "\n",
        "# Gets the type for the respective instruction (removes need for external .csv)\n",
        "def get_instruction_type(opcode):\n",
        "  return next((inst_type for inst_type, opcodes in {\n",
        "    'R': ['add', 'sub', 'mul', 'div', 'sll', 'srl', 'sra', 'or', 'and', 'xor'],\n",
        "    'I': ['lw', 'addi', 'slli', 'srli', 'srli', 'ori', 'andi', 'xori', 'jalr'],\n",
        "    'S': ['sw'], 'B': ['beq', 'bne', 'blt', 'bge'],\n",
        "    'J': ['jal'], 'N': ['nop']}.items() if opcode in opcodes), None)"
      ],
      "metadata": {
        "id": "Bg1EyvMSK_sd"
      },
      "execution_count": 11,
      "outputs": []
    },
    {
      "cell_type": "markdown",
      "source": [
        "## Task evaluation funcitons"
      ],
      "metadata": {
        "id": "T1oKYEzpkt1p"
      }
    },
    {
      "cell_type": "code",
      "source": [
        "PINK = '\\033[95m'\n",
        "BLUE = '\\033[94m'\n",
        "CYAN = '\\033[96m'\n",
        "GREEN = '\\033[92m'\n",
        "YELLOW = '\\033[93m'\n",
        "RED = '\\033[91m'\n",
        "END = '\\033[0m'\n",
        "BOLD = '\\033[1m'\n",
        "UNDERLINE = '\\033[4m'\n",
        "\n",
        "def print_instructions(instructions, color=\"\", end_index=-1, single_line=False,end=\"\\n\"):\n",
        "  if color != \"\":\n",
        "    print(color, end=\"\")\n",
        "  if single_line:\n",
        "    print(instructions, end=end)\n",
        "  else:\n",
        "    for i, instruction in enumerate(instructions):\n",
        "      print(instruction)\n",
        "      if i == end_index:\n",
        "        break\n",
        "  print(END, end=\"\")\n",
        "\n",
        "def printSubsets(subsets, color=\"\"):\n",
        "  if color != \"\":\n",
        "    print(color, end=\"\")\n",
        "  for i, subset in enumerate(subsets):\n",
        "    print(str(i+1)+\".\", end=\"\")\n",
        "    for line in subset:\n",
        "      print(\"\\t\"+str(line))\n",
        "    print()\n",
        "  print(END)"
      ],
      "metadata": {
        "id": "ow4kifKgUkEN"
      },
      "execution_count": 12,
      "outputs": []
    },
    {
      "cell_type": "code",
      "source": [
        "# FOR TESTING: Function to test task 1\n",
        "def t1_test():\n",
        "  instructions = [\n",
        "    ['main:'],\n",
        "    ['lw', 'x4', 'x0', '16'],\n",
        "    ['add', 'x5', 'x2', 'x4'],\n",
        "    ['sub', 'x7', 'x3', 'x6'],\n",
        "    ['loop:'],\n",
        "    ['sw', 'x5', 'x0', '32'],\n",
        "    ['lw', 'x4', 'x0', '16'],\n",
        "    ['addi', 'x9', 'x1', 'x4'],\n",
        "    ['bne', 'x9', 'x1', 'x4'],\n",
        "    ['lw', 'x4', 'x0', '16'],\n",
        "    ['add', 'x5', 'x1', 'x4'],\n",
        "    ['j', 'x5'],\n",
        "    ['sw', 'x5', 'x0', '32']\n",
        "  ]\n",
        "\n",
        "  correct = [\n",
        "    [['main:']],\n",
        "    [['lw', 'x4', 'x0', '16'],\n",
        "    ['add', 'x5', 'x2', 'x4'],\n",
        "    ['sub', 'x7', 'x3', 'x6']],\n",
        "    [['loop:']],\n",
        "    [['sw', 'x5', 'x0', '32'],\n",
        "    ['lw', 'x4', 'x0', '16'],\n",
        "    ['addi', 'x9', 'x1', 'x4'],\n",
        "    ['bne', 'x9', 'x1', 'x4']],\n",
        "    [['lw', 'x4', 'x0', '16'],\n",
        "    ['add', 'x5', 'x1', 'x4'],\n",
        "    ['j', 'x5']],\n",
        "    [['sw', 'x5', 'x0', '32']]\n",
        "  ]\n",
        "\n",
        "  print(\"Testing \"+YELLOW+\"splitAssemblyIntoSubsets()\"+END+\" with:\"+PINK)\n",
        "  for line in instructions:\n",
        "    print(\"\\t\"+str(line))\n",
        "  print(END+\"\\nCorrect answer: \")\n",
        "  printSubsets(correct, GREEN)\n",
        "  returned = splitAssemblyIntoSubsets(instructions)\n",
        "  color = GREEN if returned == correct else RED\n",
        "  print(\"Returned answer: \")\n",
        "  printSubsets(returned, color)"
      ],
      "metadata": {
        "id": "XdegfHVSksry"
      },
      "execution_count": 13,
      "outputs": []
    },
    {
      "cell_type": "code",
      "source": [
        "# FOR TESTING: Function to test task 2\n",
        "def t2_test():\n",
        "  instructions = [\n",
        "    ['lw', 'x4', 'x0', '16'],\n",
        "    ['add', 'x5', 'x1', 'x4'],\n",
        "    ['add', 'x5', 'x1', 'x4'],\n",
        "    ['sw', 'x5', 'x0', '32']\n",
        "  ]\n",
        "\n",
        "  #test get_operands()\n",
        "  print(\"Testing \"+YELLOW+\"get_operands()\"+END+\" with:\")\n",
        "  print_instructions(instructions[0], PINK, single_line=True)\n",
        "  correct = \"('x4', 'x0')\"\n",
        "  print(\"Correct answer: \")\n",
        "  print_instructions(correct, GREEN, single_line=True)\n",
        "  returned = get_operands(instructions[0])\n",
        "  color = GREEN if str(returned) == correct else RED\n",
        "  print(\"Returned answer: \")\n",
        "  print_instructions(returned, color, single_line=True)\n",
        "  print()\n",
        "\n",
        "  #test get_rd()\n",
        "  print(\"Testing \"+YELLOW+\"get_rd()\"+END+\" with:\")\n",
        "  print_instructions(instructions[0], PINK, single_line=True)\n",
        "  correct = \"x4\"\n",
        "  print(\"Correct answer: \")\n",
        "  print_instructions(correct, GREEN, single_line=True)\n",
        "  returned = get_rd(instructions[0])\n",
        "  color = GREEN if str(returned) == correct else RED\n",
        "  print(\"Returned answer: \")\n",
        "  print_instructions(returned, color, single_line=True)\n",
        "  print()\n",
        "\n",
        "\n",
        "  #test get_rs()\n",
        "  print(\"Testing \"+YELLOW+\"get_rs()\"+END+\" with:\")\n",
        "  print_instructions(instructions[0], PINK, single_line=True)\n",
        "  correct = \"x0\"\n",
        "  print(\"Correct answer: \")\n",
        "  print_instructions(correct, GREEN, single_line=True)\n",
        "  returned = get_rs(instructions[0])\n",
        "  color = GREEN if str(returned) == correct else RED\n",
        "  print(\"Returned answer: \")\n",
        "  print_instructions(returned, color, single_line=True)\n",
        "  print()\n",
        "\n",
        "\n",
        "  #test are_data_dependent()\n",
        "  print(\"Testing \"+YELLOW+\"are_data_dependent()\"+END+\" with:\\n\"+PINK, end=\"\")\n",
        "  print_instructions(instructions, PINK, 1)\n",
        "  correct = \"True\"\n",
        "  print(\"Correct answer: \")\n",
        "  print_instructions(correct, GREEN, single_line=True)\n",
        "  returned = are_data_dependent(instructions[0], instructions[1])\n",
        "  color = GREEN if str(returned) == correct else RED\n",
        "  print(\"Returned answer: \")\n",
        "  print_instructions(returned, color, single_line=True)"
      ],
      "metadata": {
        "id": "kAFtysSw4x2T"
      },
      "execution_count": 14,
      "outputs": []
    },
    {
      "cell_type": "code",
      "source": [
        "# FOR TESTING: Function to test task 3\n",
        "def t3_test():\n",
        "  instructions = [\n",
        "    ['lw', 'x2', 'x0', '16'],\n",
        "    ['addi', 'x4', 'x6', '37'],\n",
        "    ['sub', 'x5', 'x1', 'x4'],\n",
        "    ['add', 'x5', 'x1', 'x4'],\n",
        "    ['sw', 'x5', 'x0', '32']\n",
        "  ]\n",
        "\n",
        "  instructions2 = [\n",
        "    ['lw', 'x8', 'x9', '42'],\n",
        "    ['add', 'x7', 'x7', 'x9'],\n",
        "    ['sub', 'x8', 'x6', 'x10'],\n",
        "    ['mul', 'x6', 'x0', 'x3'],\n",
        "    ['add', 'x3', 'x1', 'x4'],\n",
        "    ['beq', 'x2', 'x3', 'loop']\n",
        "  ]\n",
        "\n",
        "  #test find_above_instruction_without_dependencies()\n",
        "  index = 2\n",
        "  print(\"Testing \"+YELLOW+\"find_above_instruction_without_dependencies()\"+END+\" with:\\n\", end=\"\")\n",
        "  print_instructions(instructions, PINK, index)\n",
        "  correct = 0\n",
        "  if correct is not False:\n",
        "    print(\"Correct answer: \"+GREEN+str(correct)+END + \" (\"+str(instructions[correct])+\")\")\n",
        "  else:\n",
        "    print(\"Correct answer: \"+GREEN+str(correct)+END)\n",
        "  returned = find_above_instruction_without_dependencies(instructions, index)\n",
        "  color = GREEN if returned is correct else RED\n",
        "  if returned is not False:\n",
        "    print(\"Returned answer: \"+color+str(returned)+END + \" (\"+str(instructions[returned])+\")\")\n",
        "  else:\n",
        "    print(\"Returned answer: \"+color+str(returned)+END)\n",
        "  print()\n",
        "\n",
        "  #test find_above_instruction_without_dependencies()\n",
        "  index = 4\n",
        "  print(\"Testing \"+YELLOW+\"find_above_instruction_without_dependencies()\"+END+\" with:\\n\", end=\"\")\n",
        "  print_instructions(instructions, PINK, index)\n",
        "  correct = 0\n",
        "  if correct is not False:\n",
        "    print(\"Correct answer: \"+GREEN+str(correct)+END + \" (\"+str(instructions[correct])+\")\")\n",
        "  else:\n",
        "    print(\"Correct answer: \"+GREEN+str(correct)+END)\n",
        "  returned = find_above_instruction_without_dependencies(instructions, index)\n",
        "  color = GREEN if returned is correct else RED\n",
        "  if returned is not False:\n",
        "    print(\"Returned answer: \"+color+str(returned)+END + \" (\"+str(instructions[returned])+\")\")\n",
        "  else:\n",
        "    print(\"Returned answer: \"+color+str(returned)+END)\n",
        "  print()\n",
        "\n",
        "  #test find_above_instruction_without_dependencies()\n",
        "  index = 1\n",
        "  print(\"Testing \"+YELLOW+\"find_above_instruction_without_dependencies()\"+END+\" with:\\n\", end=\"\")\n",
        "  print_instructions(instructions, PINK, index)\n",
        "  correct = False\n",
        "  if correct is not False:\n",
        "    print(\"Correct answer: \"+GREEN+str(correct)+END + \" (\"+str(instructions[correct])+\")\")\n",
        "  else:\n",
        "    print(\"Correct answer: \"+GREEN+str(correct)+END)\n",
        "  returned = find_above_instruction_without_dependencies(instructions, index)\n",
        "  color = GREEN if returned is correct else RED\n",
        "  if returned is not False:\n",
        "    print(\"Returned answer: \"+color+str(returned)+END + \" (\"+str(instructions[returned])+\")\")\n",
        "  else:\n",
        "    print(\"Returned answer: \"+color+str(returned)+END)\n",
        "  print()\n",
        "\n",
        "\n",
        "  #test find_above_instruction_without_dependencies()\n",
        "  index = 5\n",
        "  print(\"Testing \"+YELLOW+\"find_above_instruction_without_dependencies()\"+END+\" with:\\n\", end=\"\")\n",
        "  print_instructions(instructions2, PINK, index)\n",
        "  correct = 1\n",
        "  if correct is not False:\n",
        "    print(\"Correct answer: \"+GREEN+str(correct)+END + \" (\"+str(instructions2[correct])+\")\")\n",
        "  else:\n",
        "    print(\"Correct answer: \"+GREEN+str(correct)+END)\n",
        "  returned = find_above_instruction_without_dependencies(instructions2, index)\n",
        "  color = GREEN if returned is correct else RED\n",
        "  if returned is not False:\n",
        "    print(\"Returned answer: \"+color+str(returned)+END + \" (\"+str(instructions2[returned])+\")\")\n",
        "  else:\n",
        "    print(\"Returned answer: \"+color+str(returned)+END)"
      ],
      "metadata": {
        "id": "7NdxJZ5pJ6M-"
      },
      "execution_count": 15,
      "outputs": []
    },
    {
      "cell_type": "code",
      "source": [
        "def move_instruction_above_index(instructions, target_index, source_index):\n",
        "  # Get the instruction to move\n",
        "  instruction_to_move = instructions.pop(source_index)\n",
        "  # Adjust the target index if necessary\n",
        "  if target_index > source_index:\n",
        "      target_index -= 1\n",
        "  # Insert the instruction at the target index\n",
        "  instructions.insert(target_index, instruction_to_move)\n",
        "  return instructions\n",
        "\n",
        "\n",
        "# FOR TESTING: Function to test task 4\n",
        "def t4_test():\n",
        "  instructions = [\n",
        "    ['lw', 'x4', 'x0', '16'],\n",
        "    ['add', 'x5', 'x1', 'x4'],\n",
        "    ['add', 'x5', 'x1', 'x4'],\n",
        "    ['sw', 'x5', 'x0', '32']\n",
        "  ]\n",
        "\n",
        "  #test move_instruction_above_index()\n",
        "  target_idx, instr_to_move = 1,3\n",
        "  print(\"Testing \"+YELLOW+\"get_operands()\"+END+\" with:\")\n",
        "  print_instructions(instructions, PINK)\n",
        "  correct = [['lw', 'x4', 'x0', '16'], ['sw', 'x5', 'x0', '32'], ['add', 'x5', 'x1', 'x4'], ['add', 'x5', 'x1', 'x4']]\n",
        "  print(\"\\nCorrect answer:\")\n",
        "  print_instructions(correct, GREEN)\n",
        "  returned = move_instruction_above_index(instructions, target_idx, instr_to_move)\n",
        "  color = GREEN if returned == correct else RED\n",
        "  print(\"\\nReturned answer:\")\n",
        "  print_instructions(correct, color)\n",
        "  print(END)"
      ],
      "metadata": {
        "id": "GOFqztKzSs2z"
      },
      "execution_count": 16,
      "outputs": []
    },
    {
      "cell_type": "code",
      "source": [
        "def t5_test():\n",
        "  instructions = [\n",
        "    ['lw', 'x1', 'x0', '0'],\n",
        "    ['lw', 'x2', 'x0', '8'],\n",
        "    ['add', 'x3', 'x1', 'x2'],\n",
        "    ['sw', 'x3', 'x0', '24'],\n",
        "    ['lw', 'x4', 'x0', '16'],\n",
        "    ['add', 'x5', 'x1', 'x4'],\n",
        "    ['sw', 'x5', 'x0', '32']\n",
        "  ]\n",
        "\n",
        "  #test reorder_instructions()\n",
        "  print(\"Testing \"+YELLOW+\"reorder_instructions()\"+END+\" with:\")\n",
        "  print_instructions(instructions, PINK)\n",
        "  correct = [['lw', 'x1', 'x0', '0'],['lw', 'x2', 'x0', '8'],['lw', 'x4', 'x0', '16'],['add', 'x3', 'x1', 'x2'],['add', 'x5', 'x1', 'x4'],['sw', 'x3', 'x0', '24'],['sw', 'x5', 'x0', '32']]\n",
        "  print(\"\\nCorrect answer:\")\n",
        "  print_instructions(correct, GREEN)\n",
        "  returned = reorder_instructions(instructions)\n",
        "  color = GREEN if returned == correct else RED\n",
        "  print(\"\\nReturned answer:\")\n",
        "  print_instructions(returned, color)\n",
        "  print(END)"
      ],
      "metadata": {
        "id": "jMNrKJayhQJ3"
      },
      "execution_count": 17,
      "outputs": []
    },
    {
      "cell_type": "code",
      "source": [
        "def t6_test(filename):\n",
        "  correct =[\n",
        "    ['load_use1:'],\n",
        "    ['lw', 't1', 't1', '12'],\n",
        "    ['sub', 't8', 't6', 't7'],\n",
        "    ['add', 't5', 't1', 't7'],\n",
        "    ['or', 't9', 't6', 't7'],\n",
        "    ['load_use2:'],\n",
        "    ['lw', 't1', 't1', '12'],\n",
        "    ['or', 't9', 't6', 't7'],\n",
        "    ['add', 't5', 't1', 't7'],\n",
        "    ['sub', 't1', 't6', 't7'],\n",
        "    ['no_dep:'],\n",
        "    ['lw', 't0', 't1', '12'],\n",
        "    ['add', 't5', 't6', 't7'],\n",
        "    ['sub', 't2', 't0', 's1'],\n",
        "    ['or', 's5', 's6', 't6'],\n",
        "    ['alu_then_branch:'],\n",
        "    ['sub', 's3', 's3', 't0'],\n",
        "    ['add', 't0', 't1', 't2'],\n",
        "    ['sub', 't3', 't4', 't5'],\n",
        "    ['beq', 't0', 't5', 'loop'],\n",
        "    ['load_then_branch:'],\n",
        "    ['add', 't4', 't6', 't7'],\n",
        "    ['lw', 't0', 't1', '0'],\n",
        "    ['sub', 't2', 't3', 's1'],\n",
        "    ['beq', 't0', 't5', 'loop'],\n",
        "    ['fix_no_steal:'],\n",
        "    ['lw', 't0', 't1', '12'],\n",
        "    ['add', 't5', 't0', 't7'],\n",
        "    ['or', 's5', 't0', 't6'],\n",
        "    ['sub', 't2', 't4', 't6'],\n",
        "    ['add', 's3', 's5', 's6'],\n",
        "    ['handshake:'],\n",
        "    ['lw', 't0', 't1', '12'],\n",
        "    ['sub', 's5', 't4', 't6'],\n",
        "    ['or', 's5', 't7', 't6'],\n",
        "    ['add', 't5', 't0', 't7'],\n",
        "    ['add', 's3', 's5', 's6']]\n",
        "\n",
        "  # catching up to where this would inject into Lab #03\n",
        "  instructions = read(filename)\n",
        "  instructions = remove_comments(instructions)\n",
        "  instructions = split_arg(instructions)\n",
        "  instructions = remove_empty(instructions)\n",
        "  instructions = loadsave_arg_reorder(instructions)\n",
        "\n",
        "  # split the instructions into subsets\n",
        "  subsets = splitAssemblyIntoSubsets(instructions)\n",
        "\n",
        "  # loop through the subsets and reorder the instructions to avoid data dependencies\n",
        "  reordered_instructions = []\n",
        "  for subset in subsets:\n",
        "    # for labels or single or a pair of instructions\n",
        "    if len(subset) <= 2:\n",
        "      reordered_instructions += subset\n",
        "    # subsets with more than two instructions\n",
        "    else:\n",
        "      reordered_instructions += reorder_instructions(subset)\n",
        "\n",
        "  # for line in reordered_instructions:\n",
        "  #   print(line)\n",
        "\n",
        "  print(\"Original\\t\\t\\tReordered\")\n",
        "\n",
        "  for i in range(len(instructions)):\n",
        "    print_instructions(instructions[i], PINK, single_line=True, end=\"\")\n",
        "    if instructions[i][0] in {\"no_dep:\", \"load_use1:\",\"load_use2:\",\"handshake:\"}: #i don't have time for this..\n",
        "      print(\"\\t\\t\\t\", end=\"\")\n",
        "    elif len(''.join(str(instructions[i]))) < 24:\n",
        "      print(\"\\t\\t\", end=\"\")\n",
        "    else:\n",
        "      print(\"\\t\", end=\"\")\n",
        "    color = GREEN if reordered_instructions[i] == correct[i] else RED\n",
        "    print_instructions(reordered_instructions[i], color, single_line=True)\n",
        "  print()"
      ],
      "metadata": {
        "id": "lGJiL8JvPAWN"
      },
      "execution_count": 18,
      "outputs": []
    },
    {
      "cell_type": "code",
      "source": [
        "#@title\n",
        "filename = \"example.asm\" #@param {type:\"string\"}\n",
        "# filename = \"example.asm\""
      ],
      "metadata": {
        "id": "WtNCcLCSQFnV"
      },
      "execution_count": 19,
      "outputs": []
    },
    {
      "cell_type": "code",
      "source": [
        "#@title Assembly Instructions loaded from `filename`\n",
        "# catching up to where this would inject into the workflow of Lab #03\n",
        "instructions = read(filename)\n",
        "instructions = remove_comments(instructions)\n",
        "instructions = split_arg(instructions)\n",
        "instructions = remove_empty(instructions)\n",
        "instructions = loadsave_arg_reorder(instructions)\n",
        "# print instructions after processing from Lab #03 is performed\n",
        "print_asm_inst(instructions)"
      ],
      "metadata": {
        "id": "Uxh7FZ9AV0mf",
        "colab": {
          "base_uri": "https://localhost:8080/"
        },
        "cellView": "form",
        "outputId": "653bf489-5e23-4c1e-f204-7d074a103672"
      },
      "execution_count": 20,
      "outputs": [
        {
          "output_type": "stream",
          "name": "stdout",
          "text": [
            "Assembly Instructions:\n",
            "['load_use1:']\n",
            "['lw', 't1', 't1', '12']\n",
            "['add', 't5', 't1', 't7']\n",
            "['sub', 't8', 't6', 't7']\n",
            "['or', 't9', 't6', 't7']\n",
            "['load_use2:']\n",
            "['lw', 't1', 't1', '12']\n",
            "['add', 't5', 't1', 't7']\n",
            "['sub', 't1', 't6', 't7']\n",
            "['or', 't9', 't6', 't7']\n",
            "['no_dep:']\n",
            "['lw', 't0', 't1', '12']\n",
            "['add', 't5', 't6', 't7']\n",
            "['sub', 't2', 't0', 's1']\n",
            "['or', 's5', 's6', 't6']\n",
            "['alu_then_branch:']\n",
            "['sub', 't3', 't4', 't5']\n",
            "['sub', 's3', 's3', 't0']\n",
            "['add', 't0', 't1', 't2']\n",
            "['beq', 't0', 't5', 'loop']\n",
            "['load_then_branch:']\n",
            "['add', 't4', 't6', 't7']\n",
            "['sub', 't2', 't3', 's1']\n",
            "['lw', 't0', 't1', '0']\n",
            "['beq', 't0', 't5', 'loop']\n",
            "['fix_no_steal:']\n",
            "['lw', 't0', 't1', '12']\n",
            "['add', 't5', 't0', 't7']\n",
            "['sub', 't2', 't4', 't6']\n",
            "['or', 's5', 't0', 't6']\n",
            "['add', 's3', 's5', 's6']\n",
            "['handshake:']\n",
            "['lw', 't0', 't1', '12']\n",
            "['add', 't5', 't0', 't7']\n",
            "['sub', 's5', 't4', 't6']\n",
            "['or', 's5', 't7', 't6']\n",
            "['add', 's3', 's5', 's6']\n"
          ]
        }
      ]
    },
    {
      "cell_type": "markdown",
      "source": [
        "# **Task 1**"
      ],
      "metadata": {
        "id": "uIS18dH1TG6_"
      }
    },
    {
      "cell_type": "markdown",
      "source": [
        "The function `splitAssemblyIntoSubsets()` splits `instructions` into `subsets`, starting a new `subset` after instructions that **cannot** be reordered. These instructions include:\n",
        "- Branch instructions: `beq`, `bne`, `blt`, `bge`\n",
        "- Jump instructions: `j`, `jal`\n",
        "- Labels: `main:`, `loop:`, *etc.*\n",
        "<br><br>\n",
        "\n",
        "###<span style=\"color:black; background-color:#C5E0B4; border: 1px solid; padding: 5px;\">***Complete the function `splitAssemblyIntoSubsets()`.***</span>\n",
        "\n",
        "\n",
        "<br><br>_**Note**: Label instructions must be placed alone in their own `subset`._"
      ],
      "metadata": {
        "id": "Jn-IL3_PQs9r"
      }
    },
    {
      "cell_type": "code",
      "source": [
        "def splitAssemblyIntoSubsets(instructions):\n",
        "  subsets = []\n",
        "  subset = []\n",
        "\n",
        "  for instruction in instructions:\n",
        "    # your code here -------------------------------\n",
        "    if \":\" in instruction[0]: #if instruction is a label\n",
        "      if len(subset) > 0:\n",
        "        subsets.append(subset)\n",
        "      subset = [instruction]\n",
        "      subsets.append(subset)\n",
        "      subset = []\n",
        "      continue\n",
        "\n",
        "    if \"b\" == instruction[0][0] or \"j\" == instruction[0][0]: #instruction is branch or j/jal\n",
        "      subset.append(instruction)\n",
        "      subsets.append(subset)\n",
        "      subset = []\n",
        "    else:\n",
        "      subset.append(instruction)\n",
        "    # ----------------------------------------------\n",
        "\n",
        "  if len(subset) > 0:\n",
        "    subsets.append(subset)\n",
        "\n",
        "  # return list of subsets or original instructions if there were no subsets found\n",
        "  return subsets if subsets else instructions"
      ],
      "metadata": {
        "id": "f5TMGXgpaYKu"
      },
      "execution_count": 21,
      "outputs": []
    },
    {
      "cell_type": "markdown",
      "source": [
        "Uncomment the function below to test output of `splitAssemblyIntoSubsets()`."
      ],
      "metadata": {
        "id": "raBL775tPxrn"
      }
    },
    {
      "cell_type": "code",
      "source": [
        "t1_test()"
      ],
      "metadata": {
        "id": "xqDh4uzQPyg0",
        "colab": {
          "base_uri": "https://localhost:8080/"
        },
        "outputId": "60bfa556-e81f-4e1d-e754-e40b5289574c"
      },
      "execution_count": 22,
      "outputs": [
        {
          "output_type": "stream",
          "name": "stdout",
          "text": [
            "Testing \u001b[93msplitAssemblyIntoSubsets()\u001b[0m with:\u001b[95m\n",
            "\t['main:']\n",
            "\t['lw', 'x4', 'x0', '16']\n",
            "\t['add', 'x5', 'x2', 'x4']\n",
            "\t['sub', 'x7', 'x3', 'x6']\n",
            "\t['loop:']\n",
            "\t['sw', 'x5', 'x0', '32']\n",
            "\t['lw', 'x4', 'x0', '16']\n",
            "\t['addi', 'x9', 'x1', 'x4']\n",
            "\t['bne', 'x9', 'x1', 'x4']\n",
            "\t['lw', 'x4', 'x0', '16']\n",
            "\t['add', 'x5', 'x1', 'x4']\n",
            "\t['j', 'x5']\n",
            "\t['sw', 'x5', 'x0', '32']\n",
            "\u001b[0m\n",
            "Correct answer: \n",
            "\u001b[92m1.\t['main:']\n",
            "\n",
            "2.\t['lw', 'x4', 'x0', '16']\n",
            "\t['add', 'x5', 'x2', 'x4']\n",
            "\t['sub', 'x7', 'x3', 'x6']\n",
            "\n",
            "3.\t['loop:']\n",
            "\n",
            "4.\t['sw', 'x5', 'x0', '32']\n",
            "\t['lw', 'x4', 'x0', '16']\n",
            "\t['addi', 'x9', 'x1', 'x4']\n",
            "\t['bne', 'x9', 'x1', 'x4']\n",
            "\n",
            "5.\t['lw', 'x4', 'x0', '16']\n",
            "\t['add', 'x5', 'x1', 'x4']\n",
            "\t['j', 'x5']\n",
            "\n",
            "6.\t['sw', 'x5', 'x0', '32']\n",
            "\n",
            "\u001b[0m\n",
            "Returned answer: \n",
            "\u001b[92m1.\t['main:']\n",
            "\n",
            "2.\t['lw', 'x4', 'x0', '16']\n",
            "\t['add', 'x5', 'x2', 'x4']\n",
            "\t['sub', 'x7', 'x3', 'x6']\n",
            "\n",
            "3.\t['loop:']\n",
            "\n",
            "4.\t['sw', 'x5', 'x0', '32']\n",
            "\t['lw', 'x4', 'x0', '16']\n",
            "\t['addi', 'x9', 'x1', 'x4']\n",
            "\t['bne', 'x9', 'x1', 'x4']\n",
            "\n",
            "5.\t['lw', 'x4', 'x0', '16']\n",
            "\t['add', 'x5', 'x1', 'x4']\n",
            "\t['j', 'x5']\n",
            "\n",
            "6.\t['sw', 'x5', 'x0', '32']\n",
            "\n",
            "\u001b[0m\n"
          ]
        }
      ]
    },
    {
      "cell_type": "markdown",
      "source": [
        "# **Task 2**"
      ],
      "metadata": {
        "id": "FdArBDN5TNLk"
      }
    },
    {
      "cell_type": "markdown",
      "source": [
        "The function `get_operands()` returns the `rd` and `rs` values of an instruction.\n",
        "\n",
        "The function `are_data_dependent()` checks if `instruction_A` has data dependencies in `instruction_B`.<br><br>\n",
        "\n",
        "### <span style=\"color:black; background-color:#C5E0B4; border: 1px solid; padding: 5px;\">**Complete the functions `get_operands()` and `are_data_dependent()`.**</span>"
      ],
      "metadata": {
        "id": "UPf6zxSbmFmw"
      }
    },
    {
      "cell_type": "code",
      "source": [
        "def get_operands(instruction):\n",
        "  instruction_type = get_instruction_type(instruction[0])\n",
        "  rd, rs = \" \", \" \"\n",
        "\n",
        "  # this could be rewritten using a match statement if Google used a recent python version..\n",
        "  if instruction_type == 'I':\n",
        "    # your code here -------------------------------\n",
        "    rd = instruction[1]\n",
        "    rs = instruction[2]\n",
        "\n",
        "  elif instruction_type == 'R':\n",
        "    # your code here -------------------------------\n",
        "    rd = instruction[1]\n",
        "    rs = instruction[2] + \" \" + instruction[3]\n",
        "\n",
        "  elif instruction_type == 'S' or instruction_type == 'B':\n",
        "    # your code here -------------------------------\n",
        "    rs = instruction[1] + \" \" + instruction[2]\n",
        "\n",
        "  elif instruction_type == 'J':\n",
        "    # your code here -------------------------------\n",
        "    rd = instruction[1]\n",
        "\n",
        "  return rd, rs\n",
        "\n",
        "# wrapper function for get_operands()\n",
        "def get_rd(instruction):\n",
        "  return get_operands(instruction)[0]\n",
        "\n",
        "# wrapper function for get_operands()\n",
        "def get_rs(instruction):\n",
        "  return get_operands(instruction)[1]\n",
        "\n",
        "\n",
        "# check if rd of instructionA is in rs of instructionB\n",
        "def are_data_dependent(instruction_A,instruction_B):\n",
        "  # your code here -------------------------------\n",
        "  return get_rd(instruction_A) in get_rs(instruction_B)\n"
      ],
      "metadata": {
        "id": "4ue-_VglMg0W"
      },
      "execution_count": 23,
      "outputs": []
    },
    {
      "cell_type": "markdown",
      "source": [
        "Uncomment the function below to test output of `get_operands()` and `are_data_dependent()`."
      ],
      "metadata": {
        "id": "lJ5V4zCdT5vo"
      }
    },
    {
      "cell_type": "code",
      "source": [
        "t2_test()"
      ],
      "metadata": {
        "id": "bVgviXiPT57O",
        "colab": {
          "base_uri": "https://localhost:8080/"
        },
        "outputId": "61f2e49c-a6de-4578-f910-229e4ddd999a"
      },
      "execution_count": 24,
      "outputs": [
        {
          "output_type": "stream",
          "name": "stdout",
          "text": [
            "Testing \u001b[93mget_operands()\u001b[0m with:\n",
            "\u001b[95m['lw', 'x4', 'x0', '16']\n",
            "\u001b[0mCorrect answer: \n",
            "\u001b[92m('x4', 'x0')\n",
            "\u001b[0mReturned answer: \n",
            "\u001b[92m('x4', 'x0')\n",
            "\u001b[0m\n",
            "Testing \u001b[93mget_rd()\u001b[0m with:\n",
            "\u001b[95m['lw', 'x4', 'x0', '16']\n",
            "\u001b[0mCorrect answer: \n",
            "\u001b[92mx4\n",
            "\u001b[0mReturned answer: \n",
            "\u001b[92mx4\n",
            "\u001b[0m\n",
            "Testing \u001b[93mget_rs()\u001b[0m with:\n",
            "\u001b[95m['lw', 'x4', 'x0', '16']\n",
            "\u001b[0mCorrect answer: \n",
            "\u001b[92mx0\n",
            "\u001b[0mReturned answer: \n",
            "\u001b[92mx0\n",
            "\u001b[0m\n",
            "Testing \u001b[93mare_data_dependent()\u001b[0m with:\n",
            "\u001b[95m\u001b[95m['lw', 'x4', 'x0', '16']\n",
            "['add', 'x5', 'x1', 'x4']\n",
            "\u001b[0mCorrect answer: \n",
            "\u001b[92mTrue\n",
            "\u001b[0mReturned answer: \n",
            "\u001b[92mTrue\n",
            "\u001b[0m"
          ]
        }
      ]
    },
    {
      "cell_type": "markdown",
      "source": [
        "# **Task 3**"
      ],
      "metadata": {
        "id": "baI1khU2Gfp_"
      }
    },
    {
      "cell_type": "markdown",
      "source": [
        "The function `find_above_instruction_without_dependencies()` scans a `subset` upward (from bottom to top) until an `instruction` with no data dependencies is found. This alone will not be enough to sufficiently check the `subset` for suitable instructions to swap, because when a suitable instruction is not found searching bottom to top, the search must be repeated from top to bottom. <br><br>\n",
        "\n",
        "### <span style=\"color:black; background-color:#C5E0B4; border: 1px solid; padding: 5px;\">**Complete `find_above_instruction_without_dependencies()`.**</span>\n",
        "\n",
        "<br><br>_**Note**: When checking whether or not an instruction is truly dependency-free, we must check in both directions (i.e., `instruction_A` against `instruction_B` **and** `instruction_B` against `instruction_A`._\n",
        "\n",
        "_The bidirectional check only applies to the intermediate instructions (`intermediate_index`) but not the current instruction (`current_index`). The current instruction is always below the test instruction (`test_index`), even after swapping. Thus, you only need to compare the `rd` of the test instruction with the `rs` of the current instruction._"
      ],
      "metadata": {
        "id": "QMo_HwUiTXMc"
      }
    },
    {
      "cell_type": "code",
      "source": [
        "# search instructions (upward from current index) for instruction with no data dependencies\n",
        "def find_above_instruction_without_dependencies(instructions, current_index):\n",
        "  # your code here -------------------------------\n",
        "  dependent = False\n",
        "  for test_index in range(current_index - 1, -1, -1):\n",
        "    prev_instruction = instructions[test_index - 1]\n",
        "    next_instruction = instructions[test_index + 1]\n",
        "    test_instruction = instructions[test_index]\n",
        "\n",
        "    if test_instruction[0][0] in {'b', 'j'}:\n",
        "      continue\n",
        "\n",
        "    if are_data_dependent(prev_instruction, test_instruction) or are_data_dependent(next_instruction, test_instruction) or are_data_dependent(test_instruction, next_instruction) or are_data_dependent(test_instruction, prev_instruction):\n",
        "      dependent = True\n",
        "      continue\n",
        "\n",
        "    if dependent:\n",
        "      return test_index\n",
        "    else:\n",
        "      return False\n",
        "\n",
        "  # if no safe index is found, return False\n",
        "  return False"
      ],
      "metadata": {
        "id": "qMA07eltM-53"
      },
      "execution_count": 62,
      "outputs": []
    },
    {
      "cell_type": "code",
      "source": [
        "# search instructions (downward from current index) for instruction with no data dependencies\n",
        "def find_below_instruction_without_dependencies(instructions, current_index):\n",
        "  # get the instruction at prev index\n",
        "  prev_instruction = instructions[current_index-1]\n",
        "\n",
        "  # iterate over previous instructions from current index up to beginning of instructions\n",
        "  for test_index in range(current_index + 1, len(instructions)):\n",
        "    # get instruction to test if it has data dependencies\n",
        "    test_instruction = instructions[test_index]\n",
        "\n",
        "    # check if test instruction is a branch or jump\n",
        "    if test_instruction[0][0] in {'b', 'j'}:\n",
        "      continue\n",
        "\n",
        "    # check if register destination of previous instruction is used in register sources of test instruction\n",
        "    if are_data_dependent(prev_instruction, test_instruction):\n",
        "      continue  # data dependency exists, continue searching\n",
        "\n",
        "    # iterate over instructions between current instruction index (inclusive) and test index (exclusive) to check if there are data dependencies with test instruction\n",
        "    found_dependency = False\n",
        "    for intermediate_index in range(current_index, test_index):\n",
        "      intermediate_instruction = instructions[intermediate_index]\n",
        "      # if there are dependencies detected between instructions (in either direction), there is a dependency\n",
        "      if are_data_dependent(intermediate_instruction, test_instruction) or are_data_dependent(test_instruction, intermediate_instruction):\n",
        "        found_dependency = True\n",
        "        break\n",
        "\n",
        "    # if no data dependency is found, test index is last index where instruction can be safely injected\n",
        "    if not found_dependency:\n",
        "      return test_index\n",
        "\n",
        "  # if no safe index is found, return False\n",
        "  return False"
      ],
      "metadata": {
        "id": "H29VmCb14zjK"
      },
      "execution_count": 80,
      "outputs": []
    },
    {
      "cell_type": "markdown",
      "source": [
        "Uncomment the function below to test output of `find_above_instruction_without_dependencies()`."
      ],
      "metadata": {
        "id": "G7EP6ha3IvAp"
      }
    },
    {
      "cell_type": "code",
      "source": [
        "t3_test()"
      ],
      "metadata": {
        "id": "nbY5p-gNIvAq",
        "colab": {
          "base_uri": "https://localhost:8080/"
        },
        "outputId": "f4d1d337-05fd-4f03-c8b3-8c33406a9ac6"
      },
      "execution_count": 63,
      "outputs": [
        {
          "output_type": "stream",
          "name": "stdout",
          "text": [
            "Testing \u001b[93mfind_above_instruction_without_dependencies()\u001b[0m with:\n",
            "\u001b[95m['lw', 'x2', 'x0', '16']\n",
            "['addi', 'x4', 'x6', '37']\n",
            "['sub', 'x5', 'x1', 'x4']\n",
            "\u001b[0mCorrect answer: \u001b[92m0\u001b[0m (['lw', 'x2', 'x0', '16'])\n",
            "Returned answer: \u001b[92m0\u001b[0m (['lw', 'x2', 'x0', '16'])\n",
            "\n",
            "Testing \u001b[93mfind_above_instruction_without_dependencies()\u001b[0m with:\n",
            "\u001b[95m['lw', 'x2', 'x0', '16']\n",
            "['addi', 'x4', 'x6', '37']\n",
            "['sub', 'x5', 'x1', 'x4']\n",
            "['add', 'x5', 'x1', 'x4']\n",
            "['sw', 'x5', 'x0', '32']\n",
            "\u001b[0mCorrect answer: \u001b[92m0\u001b[0m (['lw', 'x2', 'x0', '16'])\n",
            "Returned answer: \u001b[92m0\u001b[0m (['lw', 'x2', 'x0', '16'])\n",
            "\n",
            "Testing \u001b[93mfind_above_instruction_without_dependencies()\u001b[0m with:\n",
            "\u001b[95m['lw', 'x2', 'x0', '16']\n",
            "['addi', 'x4', 'x6', '37']\n",
            "\u001b[0mCorrect answer: \u001b[92mFalse\u001b[0m\n",
            "Returned answer: \u001b[92mFalse\u001b[0m\n",
            "\n",
            "Testing \u001b[93mfind_above_instruction_without_dependencies()\u001b[0m with:\n",
            "\u001b[95m['lw', 'x8', 'x9', '42']\n",
            "['add', 'x7', 'x7', 'x9']\n",
            "['sub', 'x8', 'x6', 'x10']\n",
            "['mul', 'x6', 'x0', 'x3']\n",
            "['add', 'x3', 'x1', 'x4']\n",
            "['beq', 'x2', 'x3', 'loop']\n",
            "\u001b[0mCorrect answer: \u001b[92m1\u001b[0m (['add', 'x7', 'x7', 'x9'])\n",
            "Returned answer: \u001b[92m1\u001b[0m (['add', 'x7', 'x7', 'x9'])\n"
          ]
        }
      ]
    },
    {
      "cell_type": "markdown",
      "source": [
        "# **Task 4**"
      ],
      "metadata": {
        "id": "Ktm-jYtwQVRa"
      }
    },
    {
      "cell_type": "code",
      "source": [
        "def move_instruction_above_index(instructions, target_index, source_index):\n",
        "  # Get the instruction to move\n",
        "  instruction_to_move = instructions.pop(source_index)\n",
        "  # Adjust the target index if necessary\n",
        "  if target_index > source_index:\n",
        "      target_index -= 1\n",
        "  # Insert the instruction at the target index\n",
        "  instructions.insert(target_index, instruction_to_move)\n",
        "  return instructions"
      ],
      "metadata": {
        "id": "EGl4piEVNWg4"
      },
      "execution_count": 68,
      "outputs": []
    },
    {
      "cell_type": "markdown",
      "source": [
        "The above function moves the dependency-free `instruction` we found in Task 3 between the two instructions found to have a data dependency in Task 2.\n",
        "\n",
        "Uncomment `t4_test()` to test output of `move_instruction_above_index()`.\n",
        "<br><br>\n",
        "\n",
        "###<span style=\"color:black; background-color:#C5E0B4; border: 1px solid; padding: 5px;\">**Take a screenshot of the output from `t4_test()` and include it in your report.**</span>"
      ],
      "metadata": {
        "id": "gTfa8DLATdvO"
      }
    },
    {
      "cell_type": "code",
      "source": [
        "t4_test()"
      ],
      "metadata": {
        "id": "1pFBrRG8SqSc",
        "colab": {
          "base_uri": "https://localhost:8080/"
        },
        "outputId": "ea741b2e-fc8f-475b-bc7c-c53645e63501"
      },
      "execution_count": 69,
      "outputs": [
        {
          "output_type": "stream",
          "name": "stdout",
          "text": [
            "Testing \u001b[93mget_operands()\u001b[0m with:\n",
            "\u001b[95m['lw', 'x4', 'x0', '16']\n",
            "['add', 'x5', 'x1', 'x4']\n",
            "['add', 'x5', 'x1', 'x4']\n",
            "['sw', 'x5', 'x0', '32']\n",
            "\u001b[0m\n",
            "Correct answer:\n",
            "\u001b[92m['lw', 'x4', 'x0', '16']\n",
            "['sw', 'x5', 'x0', '32']\n",
            "['add', 'x5', 'x1', 'x4']\n",
            "['add', 'x5', 'x1', 'x4']\n",
            "\u001b[0m\n",
            "Returned answer:\n",
            "\u001b[92m['lw', 'x4', 'x0', '16']\n",
            "['sw', 'x5', 'x0', '32']\n",
            "['add', 'x5', 'x1', 'x4']\n",
            "['add', 'x5', 'x1', 'x4']\n",
            "\u001b[0m\u001b[0m\n"
          ]
        }
      ]
    },
    {
      "cell_type": "markdown",
      "source": [
        "# **Task 5**"
      ],
      "metadata": {
        "id": "kg8xzNtITjW5"
      }
    },
    {
      "cell_type": "markdown",
      "source": [
        "The function `reorder_instructions()` reorders instructions in a `subset` to avoid data hazards and stalls.\n",
        "\n",
        "<br>In order to accomplish this, the function must:\n",
        "- loop through the `subset` in reverse (bottom to top)\n",
        "- during each iteration of the loop:\n",
        "  - check if the instructions at the **current** and **previous** index `are_data_dependent()`<br>_(i.e., if the current instruction has a data dependency on the instruction above it)_\n",
        "  - if you discover an `instruction` with a data dependency during your traversal:\n",
        "    -  `find_above_instruction_without_dependencies()` in the **remaining** `subset`\n",
        "    - if an `instruction` without dependencies is found:\n",
        "      - `move_instruction_above_index()` of the `instruction` with the data dependency\n",
        "    - if an `instruction` without dependencies is **not** found:\n",
        "      - from the top of the`subset`, `find_below_instruction_without_dependencies()` until just before the **current** index\n",
        "\n",
        "- once the loop has completed, return the reordered `subset`\n",
        "<br><br>\n",
        "\n",
        "\n",
        "### <span style=\"color:black; background-color:#C5E0B4; border: 1px solid; padding: 5px;\">**Complete the function `reorder_instructions()`.**</span>\n",
        "\n",
        "\n",
        "\n",
        "<br/><br/>**_Note:_**\n",
        "_Searching **top to bottom** will use a truncated version of the `subset`, i.e., `instructions[:max_index]`_\n",
        "\n",
        "_Recall that when indexing through the `subset` of instructions that `0` is a possible index._\n",
        "\n",
        "_Recall that python treats `False` and `0` as equivalent values. e.g., `print(0==False)` returns `True`._"
      ],
      "metadata": {
        "id": "EYZbXu-jQatf"
      }
    },
    {
      "cell_type": "code",
      "source": [
        "def reorder_instructions(instructions):\n",
        "  # variable to store truncation point\n",
        "  max_index = len(instructions)\n",
        "  inst_found = False\n",
        "\n",
        "  for current_index in reversed(range(1, len(instructions))):\n",
        "  # your code here -------------------------------\n",
        "    if are_data_dependent(instructions[current_index], instructions[current_index - 1]):\n",
        "      index = find_above_instruction_without_dependencies(instructions, current_index)\n",
        "      if index != False:\n",
        "        inst_found = True\n",
        "        instructions = move_instruction_above_index(instructions, current_index, index)\n",
        "\n",
        "  if not inst_found:\n",
        "    for current_index in range(1, len(instructions)):\n",
        "      index = find_below_instruction_without_dependencies(instructions, current_index)\n",
        "      if index != False:\n",
        "        instructions = move_instruction_above_index(instructions, current_index, index)\n",
        "\n",
        "  # ----------------------------------------------\n",
        "\n",
        "  return instructions"
      ],
      "metadata": {
        "id": "i2kuCzv3FiXk"
      },
      "execution_count": 110,
      "outputs": []
    },
    {
      "cell_type": "markdown",
      "source": [
        "Uncomment the function below to test output of `reorder_instructions()`."
      ],
      "metadata": {
        "id": "Dv_Hoz0LhOrE"
      }
    },
    {
      "cell_type": "code",
      "source": [
        "t5_test()"
      ],
      "metadata": {
        "id": "8KsKMIbGhOrF",
        "colab": {
          "base_uri": "https://localhost:8080/"
        },
        "outputId": "582da672-befd-4f7a-d2c0-c91e8e6eecf9"
      },
      "execution_count": 111,
      "outputs": [
        {
          "output_type": "stream",
          "name": "stdout",
          "text": [
            "Testing \u001b[93mreorder_instructions()\u001b[0m with:\n",
            "\u001b[95m['lw', 'x1', 'x0', '0']\n",
            "['lw', 'x2', 'x0', '8']\n",
            "['add', 'x3', 'x1', 'x2']\n",
            "['sw', 'x3', 'x0', '24']\n",
            "['lw', 'x4', 'x0', '16']\n",
            "['add', 'x5', 'x1', 'x4']\n",
            "['sw', 'x5', 'x0', '32']\n",
            "\u001b[0m\n",
            "Correct answer:\n",
            "\u001b[92m['lw', 'x1', 'x0', '0']\n",
            "['lw', 'x2', 'x0', '8']\n",
            "['lw', 'x4', 'x0', '16']\n",
            "['add', 'x3', 'x1', 'x2']\n",
            "['add', 'x5', 'x1', 'x4']\n",
            "['sw', 'x3', 'x0', '24']\n",
            "['sw', 'x5', 'x0', '32']\n",
            "\u001b[0m\n",
            "Returned answer:\n",
            "\u001b[91m['lw', 'x1', 'x0', '0']\n",
            "['lw', 'x4', 'x0', '16']\n",
            "['lw', 'x2', 'x0', '8']\n",
            "['add', 'x3', 'x1', 'x2']\n",
            "['sw', 'x3', 'x0', '24']\n",
            "['add', 'x5', 'x1', 'x4']\n",
            "['sw', 'x5', 'x0', '32']\n",
            "\u001b[0m\u001b[0m\n"
          ]
        }
      ]
    },
    {
      "cell_type": "markdown",
      "source": [
        "# **Task 6**"
      ],
      "metadata": {
        "id": "FHdchhcNMkjv"
      }
    },
    {
      "cell_type": "markdown",
      "source": [
        "The function below loops through all `subsets` and runs `reorder_instructions()` from Task 5 on each `subset` until the entire original set of instructions loaded from `fiilename` has been processed.\n",
        "\n",
        "Uncomment `t6_test()` to print the output.\n",
        "<br><br>\n",
        "\n",
        "### <span style=\"color:black; background-color:#C5E0B4; border: 1px solid; padding: 5px;\">**Take a screenshot of the output from `t6_test()` and include it in your report.**</span>"
      ],
      "metadata": {
        "id": "aAqSIAnRXP-H"
      }
    },
    {
      "cell_type": "code",
      "source": [
        "#@title\n",
        "filename = \"example.asm\" #@param {type:\"string\"}\n",
        "# filename = \"example.asm\""
      ],
      "metadata": {
        "id": "t648TF6nZam3"
      },
      "execution_count": 112,
      "outputs": []
    },
    {
      "cell_type": "code",
      "source": [
        "t6_test(filename)"
      ],
      "metadata": {
        "colab": {
          "base_uri": "https://localhost:8080/"
        },
        "id": "yBEJDGGDYxwd",
        "outputId": "5ff207e5-eff3-44f3-afdd-5e45c388a5a0"
      },
      "execution_count": 113,
      "outputs": [
        {
          "output_type": "stream",
          "name": "stdout",
          "text": [
            "Original\t\t\tReordered\n",
            "\u001b[95m['load_use1:']\u001b[0m\t\t\t\u001b[92m['load_use1:']\n",
            "\u001b[0m\u001b[95m['lw', 't1', 't1', '12']\u001b[0m\t\u001b[92m['lw', 't1', 't1', '12']\n",
            "\u001b[0m\u001b[95m['add', 't5', 't1', 't7']\u001b[0m\t\u001b[92m['sub', 't8', 't6', 't7']\n",
            "\u001b[0m\u001b[95m['sub', 't8', 't6', 't7']\u001b[0m\t\u001b[91m['or', 't9', 't6', 't7']\n",
            "\u001b[0m\u001b[95m['or', 't9', 't6', 't7']\u001b[0m\t\u001b[91m['add', 't5', 't1', 't7']\n",
            "\u001b[0m\u001b[95m['load_use2:']\u001b[0m\t\t\t\u001b[92m['load_use2:']\n",
            "\u001b[0m\u001b[95m['lw', 't1', 't1', '12']\u001b[0m\t\u001b[92m['lw', 't1', 't1', '12']\n",
            "\u001b[0m\u001b[95m['add', 't5', 't1', 't7']\u001b[0m\t\u001b[92m['or', 't9', 't6', 't7']\n",
            "\u001b[0m\u001b[95m['sub', 't1', 't6', 't7']\u001b[0m\t\u001b[92m['add', 't5', 't1', 't7']\n",
            "\u001b[0m\u001b[95m['or', 't9', 't6', 't7']\u001b[0m\t\u001b[92m['sub', 't1', 't6', 't7']\n",
            "\u001b[0m\u001b[95m['no_dep:']\u001b[0m\t\t\t\u001b[92m['no_dep:']\n",
            "\u001b[0m\u001b[95m['lw', 't0', 't1', '12']\u001b[0m\t\u001b[92m['lw', 't0', 't1', '12']\n",
            "\u001b[0m\u001b[95m['add', 't5', 't6', 't7']\u001b[0m\t\u001b[91m['or', 's5', 's6', 't6']\n",
            "\u001b[0m\u001b[95m['sub', 't2', 't0', 's1']\u001b[0m\t\u001b[92m['sub', 't2', 't0', 's1']\n",
            "\u001b[0m\u001b[95m['or', 's5', 's6', 't6']\u001b[0m\t\u001b[91m['add', 't5', 't6', 't7']\n",
            "\u001b[0m\u001b[95m['alu_then_branch:']\u001b[0m\t\t\u001b[92m['alu_then_branch:']\n",
            "\u001b[0m\u001b[95m['sub', 't3', 't4', 't5']\u001b[0m\t\u001b[91m['sub', 't3', 't4', 't5']\n",
            "\u001b[0m\u001b[95m['sub', 's3', 's3', 't0']\u001b[0m\t\u001b[91m['sub', 's3', 's3', 't0']\n",
            "\u001b[0m\u001b[95m['add', 't0', 't1', 't2']\u001b[0m\t\u001b[91m['add', 't0', 't1', 't2']\n",
            "\u001b[0m\u001b[95m['beq', 't0', 't5', 'loop']\u001b[0m\t\u001b[92m['beq', 't0', 't5', 'loop']\n",
            "\u001b[0m\u001b[95m['load_then_branch:']\u001b[0m\t\t\u001b[92m['load_then_branch:']\n",
            "\u001b[0m\u001b[95m['add', 't4', 't6', 't7']\u001b[0m\t\u001b[92m['add', 't4', 't6', 't7']\n",
            "\u001b[0m\u001b[95m['sub', 't2', 't3', 's1']\u001b[0m\t\u001b[92m['lw', 't0', 't1', '0']\n",
            "\u001b[0m\u001b[95m['lw', 't0', 't1', '0']\u001b[0m\t\t\u001b[92m['sub', 't2', 't3', 's1']\n",
            "\u001b[0m\u001b[95m['beq', 't0', 't5', 'loop']\u001b[0m\t\u001b[92m['beq', 't0', 't5', 'loop']\n",
            "\u001b[0m\u001b[95m['fix_no_steal:']\u001b[0m\t\t\u001b[92m['fix_no_steal:']\n",
            "\u001b[0m\u001b[95m['lw', 't0', 't1', '12']\u001b[0m\t\u001b[92m['lw', 't0', 't1', '12']\n",
            "\u001b[0m\u001b[95m['add', 't5', 't0', 't7']\u001b[0m\t\u001b[91m['sub', 't2', 't4', 't6']\n",
            "\u001b[0m\u001b[95m['sub', 't2', 't4', 't6']\u001b[0m\t\u001b[92m['or', 's5', 't0', 't6']\n",
            "\u001b[0m\u001b[95m['or', 's5', 't0', 't6']\u001b[0m\t\u001b[91m['add', 't5', 't0', 't7']\n",
            "\u001b[0m\u001b[95m['add', 's3', 's5', 's6']\u001b[0m\t\u001b[92m['add', 's3', 's5', 's6']\n",
            "\u001b[0m\u001b[95m['handshake:']\u001b[0m\t\t\t\u001b[92m['handshake:']\n",
            "\u001b[0m\u001b[95m['lw', 't0', 't1', '12']\u001b[0m\t\u001b[92m['lw', 't0', 't1', '12']\n",
            "\u001b[0m\u001b[95m['add', 't5', 't0', 't7']\u001b[0m\t\u001b[92m['sub', 's5', 't4', 't6']\n",
            "\u001b[0m\u001b[95m['sub', 's5', 't4', 't6']\u001b[0m\t\u001b[92m['or', 's5', 't7', 't6']\n",
            "\u001b[0m\u001b[95m['or', 's5', 't7', 't6']\u001b[0m\t\u001b[92m['add', 't5', 't0', 't7']\n",
            "\u001b[0m\u001b[95m['add', 's3', 's5', 's6']\u001b[0m\t\u001b[92m['add', 's3', 's5', 's6']\n",
            "\u001b[0m\n"
          ]
        }
      ]
    }
  ]
}