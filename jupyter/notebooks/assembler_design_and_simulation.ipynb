{
  "metadata": {
    "vscode": {
      "interpreter": {
        "hash": "7e1998ff7f8aa20ada591c520b972326324e5ea05489af9e422744c7c09f6dad"
      }
    },
    "kernelspec": {
      "display_name": "Python (Pyodide)",
      "language": "python",
      "name": "python"
    },
    "language_info": {
      "codemirror_mode": {
        "name": "python",
        "version": 3
      },
      "file_extension": ".py",
      "mimetype": "text/x-python",
      "name": "python",
      "nbconvert_exporter": "python",
      "pygments_lexer": "ipython3",
      "version": "3.8"
    }
  },
  "nbformat_minor": 4,
  "nbformat": 4,
  "cells": [
    {
      "cell_type": "markdown",
      "source": "# **Lab 04** - ISA Assembler Design (Part 2)\nIn this lab, your task is to utilize the **pre-processed assembly code** obtained in part 1 and convert it to **machine code**.\n\n**TODO**\n* Complete tasks\n* Save code to a `.bin` file\n\n_Note:_ Some portions of the code have already been implemented for you, such as reading the input file (`_out1.txt`), adjusting the `.txt` file format into a list of instructions, printing the processed instructions, and getting the instruction's `format`, `opcode`, `funct3`, and `funct7` based on its name. Also, assume that inputs for a task are outputs from the previous task.",
      "metadata": {}
    },
    {
      "cell_type": "code",
      "source": "import re\nimport csv\n\n## Function to read .txt file with pre-processed assembly code\ndef read_processed(filename):\n    '''read each line from a file'''\n    asm_inst = list()\n    with open(filename, 'r') as f:\n        for line in f:\n            asm_inst.append([(int(arg) if re.fullmatch(\"[+-]?[0-9]+\",arg) else arg) for arg in line.split()])\n    return asm_inst\n\n## Function to print the instructions\ndef print_asm_inst(inst_asm):\n    '''prints list of instructions'''\n    print(\"Assembly Instructions:\")\n    if len(inst_asm) == 0:\n        print(None)\n    else:\n        for line in inst_asm:\n            print(line)\n\n## Read csv file containing the format for each type of instruction\ndef get_isa(filename):\n        isa = dict()\n        with open(filename, newline='') as f:\n            data = csv.reader(f)\n            header = next(data)\n            for row in data:\n                isa[row[0]] = {header[1]: row[1], header[2]: row[2], header[3]: row[3], header[4]: row[4]}\n        return isa\n\nisa = get_isa('rv32im_isa.csv')\n\n## Gets the encoding for the respective instruction\ndef get_inst_format(inst_name, isa=isa):\n    '''gets the instruction's format based on its name'''\n    try:\n        val = isa[inst_name]['format']\n    except:\n        raise KeyError(f\"Invalid instruction: {inst_name}\")\n    if val == 'None':\n        raise ValueError(f\"Instruction '{inst_name}' does not have a format\")\n    return val\n\ndef get_inst_opcode(inst_name, isa=isa):\n    '''gets the instruction's opcode based on its name'''\n    try:\n        val = isa[inst_name]['opcode']\n    except:\n        raise KeyError(f\"Invalid instruction: {inst_name}\")\n    if val == 'None':\n        raise ValueError(f\"Instruction '{inst_name}' does not have an opcode\")\n    return val\n\ndef get_inst_funct3(inst_name, isa=isa):\n    '''gets the instruction's funct3 based on its name'''\n    try:\n        val = isa[inst_name]['funct3']\n    except:\n        raise KeyError(f\"Invalid instruction: {inst_name}\")\n    if val == 'None':\n        raise ValueError(f\"Instruction '{inst_name}' does not have 'funct3'\")\n    return val\n\ndef get_inst_funct7(inst_name, isa=isa):\n    '''gets the instruction's funct7 based on its name'''\n    try:\n        val = isa[inst_name]['funct7']\n    except:\n        raise KeyError(f\"Invalid instruction: {inst_name}\")\n    if val == 'None':\n        raise ValueError(f\"Instruction '{inst_name}' does not have 'funct7'\")\n    return val\n\n\n\n## Convert int to bin (signed 2's C or unsigned)\ndef get_2c_binary(integer:int, bits=32, is_signed=True):\n        '''converts integert to binary size bits.\n        If is_signed=True, then converts to 2's Complement binary;\n        Otherwise, converts to unsigned binary'''\n        limit = 2**(bits)\n        if is_signed:\n            if (int(integer) < -limit/2) or (int(integer) >= limit/2):\n                raise ValueError(f\"Value outside of range: {integer}.\\nMust be between [{-limit/2}, {limit/2}).\")\n        else:\n            if (int(integer) < 0) or (int(integer) >= limit):\n                raise ValueError(f\"Value outside of range: {integer}.\\nMust be between [0, {limit}).\")\n        # if no issues:\n        return format(int(integer) & (limit-1), f\"0{bits}b\")",
      "metadata": {
        "trusted": true
      },
      "execution_count": 7,
      "outputs": []
    },
    {
      "cell_type": "code",
      "source": " # list to store instructions\ninst_asm = []\n\n## reads assembly code and stores it in list of lists 'inst_asm' where axis 0 (rows) corresponds \n## to each line in the file and axis 1 (columns) corresponds to each argument in that instruction\nfilename = \"example1_out1.txt\"\ninst_asm = read_processed(filename)\n# inst_asm = [[arg for arg in line.split()] for line in inst_asm]\nprint_asm_inst(inst_asm)",
      "metadata": {
        "trusted": true
      },
      "execution_count": 8,
      "outputs": [
        {
          "name": "stdout",
          "text": "Assembly Instructions:\n['lw', 7, 9, 0]\n['addi', 10, 0, 10]\n['addi', 11, 0, 20]\n['bge', 10, 11, 12]\n['add', 12, 11, 0]\n['jal', 1, 12]\n['add', 12, 10, 0]\n['jal', 1, 4]\n['sw', 9, 10, 0]\n",
          "output_type": "stream"
        }
      ]
    },
    {
      "cell_type": "markdown",
      "source": "## **Task 1**\n<span style=\"color:black; background-color:#C5E0B4; border: 1px solid; padding: 5px;\">Implement a function that converts the above instructions from `inst_asm` into machine code.</span>\n\nYou will need the following functions: \n- `get_inst_format()` ✓\n- `get_inst_opcode()` \n- `get_inst_funct3()`\n- `get_inst_funct7()`\n- `get_2c_binary()`\n\n_**Note:** python indexing is <u>backwards</u> compared to how we conventionally index in hardware design. This is important to know when implementing the `imm` (immediate) field._\n\n_**Note:** since immediate values can be <u>negative</u>, we must account for this when converting integers._",
      "metadata": {}
    },
    {
      "cell_type": "code",
      "source": "def get_machine_code(inst_asm):\n    '''converts the assembly code to machine code'''\n    inst_bin = [] # holds the final result after calling the appropriate functions\n\n    for line in inst_asm:\n        inst_name = line[0]\n        match (get_inst_format(inst_name)):\n\n            # -- enter your code here\n\n            # R-type\n            case 'R':\n                # get fields\n                opcode = get_inst_opcode(inst_name)\n                ## ... add the other fields here ... ##\n                rs1 = get_2c_binary(int(line[2]), 5)\n                funct3 = get_inst_funct3(inst_name)\n                funct7 = get_inst_funct7(inst_name)\n                rd = get_2c_binary(int(line[1]), 5)\n                rs2 = get_2c_binary(int(line[3]), 5)\n                \n                # assemble instruction\n                code = funct7 + rs2 + rs1 + funct3 + rd + opcode\n                inst_bin.append(code) # append machine code to result\n\n\n            # I-type\n            case 'I':\n                # get fields\n                opcode = get_inst_opcode(inst_name)\n                ## ... add the other fields here ... ##\n                imm = get_2c_binary(int(line[3]), 12)\n                rs1 = get_2c_binary(int(line[2]), 5)\n                funct3 = get_inst_funct3(inst_name)\n                rd = get_2c_binary(int(line[1]), 5)\n                \n                # assemble instruction\n                code = imm + rs1 + funct3 + rd + opcode\n                inst_bin.append(code) # append machine code to result\n                \n            ## ... ##\n            \n            # S-type\n            case 'S':\n                # get fields\n                opcode = get_inst_opcode(inst_name)\n                ## ... add the other fields here ... ##\n                rs1 = get_2c_binary(int(line[1]), 5)\n                funct3 = get_inst_funct3(inst_name)\n                rs2 = get_2c_binary(int(line[2]), 5)\n                imm = get_2c_binary(int(line[3]), 12)\n                \n                # assemble instruction\n                code = imm[:7] + rs2 + rs1 + funct3 + imm[7:] + opcode\n                inst_bin.append(code) # append machine code to result              \n            ## ... ##\n            \n            # B-type\n            case 'B':\n                # get fields\n                opcode = get_inst_opcode(inst_name)\n                ## ... add the other fields here ... ##\n                rs1 = get_2c_binary(int(line[1]), 5)\n                funct3 = get_inst_funct3(inst_name)\n                rs2 = get_2c_binary(int(line[2]), 5)\n                imm = get_2c_binary(int(line[3]), 12)\n    \n                # assemble instruction\n                code = imm[:7] + rs2 + rs1 + funct3 + imm[7:] + opcode\n                inst_bin.append(code) # append machine code to result\n            ## ... ##\n            \n            # J-type\n            case 'J':\n                # get fields\n                opcode = get_inst_opcode(inst_name)\n                ## ... add the other fields here ... ##\n                rd = get_2c_binary(int(line[1]), 5)\n                imm = get_2c_binary(int(line[2]), 20)\n                \n                # assemble instruction\n                code = imm + rd + opcode\n                inst_bin.append(code) # append machine code to result\n            ## ... ##\n            \n            \n            # -- end your code here \n\n            \n            case _: # Other (default)\n                code = \"0\"*32 # assemble instruction: NOP\n                inst_bin.append(code) # append machine code to result\n\n    return inst_bin\n\n## -- check your output by uncommenting the lines below -- ##\ninst_bin = get_machine_code(inst_asm)\nprint_asm_inst(inst_bin)",
      "metadata": {
        "trusted": true
      },
      "execution_count": 9,
      "outputs": [
        {
          "name": "stdout",
          "text": "Assembly Instructions:\n00000000000001001000001110000011\n00000000101000000000010100010011\n00000001010000000000010110010011\n00000000101101010101011001100011\n00000000000001011000011000110011\n00000000000000001100000011101111\n00000000000001010000011000110011\n00000000000000000100000011101111\n00000000101001001010000000100011\n",
          "output_type": "stream"
        }
      ]
    },
    {
      "cell_type": "markdown",
      "source": "## **Task 2**\n<span style=\"color:black; background-color:#C5E0B4; border: 1px solid; padding: 5px;\">Implement a function to save the processed assembly code to a `.bin` file.</span>",
      "metadata": {}
    },
    {
      "cell_type": "code",
      "source": "def save_bin(inst_bin, filename):\n    # -- enter your code here\n    '''save each machine code to a file'''\n    with open(filename, 'w') as f:\n        for code in inst_bin:\n            f.write(code + '\\n')\n    print(f\"Saved machine code to: {filename}\")\n\n    # -- end your code here \n\n## -- save your final output to a .bin file by uncommenting the lines below -- ##\nsave_bin(inst_bin, filename[:-5]+\"2.bin\")",
      "metadata": {
        "trusted": true
      },
      "execution_count": 10,
      "outputs": [
        {
          "name": "stdout",
          "text": "Saved machine code to: example1_out2.bin\n",
          "output_type": "stream"
        }
      ]
    },
    {
      "cell_type": "code",
      "source": "",
      "metadata": {},
      "execution_count": null,
      "outputs": []
    },
    {
      "cell_type": "code",
      "source": "",
      "metadata": {},
      "execution_count": null,
      "outputs": []
    }
  ]
}